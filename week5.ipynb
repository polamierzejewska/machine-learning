{
 "cells": [
  {
   "cell_type": "markdown",
   "metadata": {},
   "source": [
    "# Week 5 - Machine Learning"
   ]
  },
  {
   "source": [
    "### Objective\n",
    "\n",
    "Predict the outcomes in a data set using either Random Forest, Decision Tree or k-NN. Write a Jupyter Notebook report documenting your investigation. The dataset of my choice is IBM HR Analytics Employee Attrition & Performance. I want to predict attrition of employees.\n"
   ],
   "cell_type": "markdown",
   "metadata": {}
  },
  {
   "cell_type": "code",
   "execution_count": 62,
   "metadata": {},
   "outputs": [],
   "source": [
    "import seaborn as sns\n",
    "import sklearn as sk\n",
    "import pandas as pd\n",
    "import matplotlib.pyplot as plt\n",
    "from sklearn.metrics import confusion_matrix\n",
    "from sklearn.metrics import classification_report\n",
    "from sklearn.model_selection import train_test_split \n",
    "from sklearn.neighbors import KNeighborsClassifier"
   ]
  },
  {
   "cell_type": "code",
   "execution_count": 63,
   "metadata": {},
   "outputs": [
    {
     "output_type": "execute_result",
     "data": {
      "text/html": "<div>\n<style scoped>\n    .dataframe tbody tr th:only-of-type {\n        vertical-align: middle;\n    }\n\n    .dataframe tbody tr th {\n        vertical-align: top;\n    }\n\n    .dataframe thead th {\n        text-align: right;\n    }\n</style>\n<table border=\"1\" class=\"dataframe\">\n  <thead>\n    <tr style=\"text-align: right;\">\n      <th></th>\n      <th>Age</th>\n      <th>Attrition</th>\n      <th>BusinessTravel</th>\n      <th>DailyRate</th>\n      <th>Department</th>\n      <th>DistanceFromHome</th>\n      <th>Education</th>\n      <th>EducationField</th>\n      <th>EmployeeCount</th>\n      <th>EmployeeNumber</th>\n      <th>...</th>\n      <th>RelationshipSatisfaction</th>\n      <th>StandardHours</th>\n      <th>StockOptionLevel</th>\n      <th>TotalWorkingYears</th>\n      <th>TrainingTimesLastYear</th>\n      <th>WorkLifeBalance</th>\n      <th>YearsAtCompany</th>\n      <th>YearsInCurrentRole</th>\n      <th>YearsSinceLastPromotion</th>\n      <th>YearsWithCurrManager</th>\n    </tr>\n  </thead>\n  <tbody>\n    <tr>\n      <th>0</th>\n      <td>41</td>\n      <td>Yes</td>\n      <td>Travel_Rarely</td>\n      <td>1102</td>\n      <td>Sales</td>\n      <td>1</td>\n      <td>2</td>\n      <td>Life Sciences</td>\n      <td>1</td>\n      <td>1</td>\n      <td>...</td>\n      <td>1</td>\n      <td>80</td>\n      <td>0</td>\n      <td>8</td>\n      <td>0</td>\n      <td>1</td>\n      <td>6</td>\n      <td>4</td>\n      <td>0</td>\n      <td>5</td>\n    </tr>\n    <tr>\n      <th>1</th>\n      <td>49</td>\n      <td>No</td>\n      <td>Travel_Frequently</td>\n      <td>279</td>\n      <td>Research &amp; Development</td>\n      <td>8</td>\n      <td>1</td>\n      <td>Life Sciences</td>\n      <td>1</td>\n      <td>2</td>\n      <td>...</td>\n      <td>4</td>\n      <td>80</td>\n      <td>1</td>\n      <td>10</td>\n      <td>3</td>\n      <td>3</td>\n      <td>10</td>\n      <td>7</td>\n      <td>1</td>\n      <td>7</td>\n    </tr>\n    <tr>\n      <th>2</th>\n      <td>37</td>\n      <td>Yes</td>\n      <td>Travel_Rarely</td>\n      <td>1373</td>\n      <td>Research &amp; Development</td>\n      <td>2</td>\n      <td>2</td>\n      <td>Other</td>\n      <td>1</td>\n      <td>4</td>\n      <td>...</td>\n      <td>2</td>\n      <td>80</td>\n      <td>0</td>\n      <td>7</td>\n      <td>3</td>\n      <td>3</td>\n      <td>0</td>\n      <td>0</td>\n      <td>0</td>\n      <td>0</td>\n    </tr>\n    <tr>\n      <th>3</th>\n      <td>33</td>\n      <td>No</td>\n      <td>Travel_Frequently</td>\n      <td>1392</td>\n      <td>Research &amp; Development</td>\n      <td>3</td>\n      <td>4</td>\n      <td>Life Sciences</td>\n      <td>1</td>\n      <td>5</td>\n      <td>...</td>\n      <td>3</td>\n      <td>80</td>\n      <td>0</td>\n      <td>8</td>\n      <td>3</td>\n      <td>3</td>\n      <td>8</td>\n      <td>7</td>\n      <td>3</td>\n      <td>0</td>\n    </tr>\n    <tr>\n      <th>4</th>\n      <td>27</td>\n      <td>No</td>\n      <td>Travel_Rarely</td>\n      <td>591</td>\n      <td>Research &amp; Development</td>\n      <td>2</td>\n      <td>1</td>\n      <td>Medical</td>\n      <td>1</td>\n      <td>7</td>\n      <td>...</td>\n      <td>4</td>\n      <td>80</td>\n      <td>1</td>\n      <td>6</td>\n      <td>3</td>\n      <td>3</td>\n      <td>2</td>\n      <td>2</td>\n      <td>2</td>\n      <td>2</td>\n    </tr>\n  </tbody>\n</table>\n<p>5 rows × 35 columns</p>\n</div>",
      "text/plain": [
       "   Age Attrition     BusinessTravel  DailyRate              Department  \\\n",
       "0   41       Yes      Travel_Rarely       1102                   Sales   \n",
       "1   49        No  Travel_Frequently        279  Research & Development   \n",
       "2   37       Yes      Travel_Rarely       1373  Research & Development   \n",
       "3   33        No  Travel_Frequently       1392  Research & Development   \n",
       "4   27        No      Travel_Rarely        591  Research & Development   \n",
       "\n",
       "   DistanceFromHome  Education EducationField  EmployeeCount  EmployeeNumber  \\\n",
       "0                 1          2  Life Sciences              1               1   \n",
       "1                 8          1  Life Sciences              1               2   \n",
       "2                 2          2          Other              1               4   \n",
       "3                 3          4  Life Sciences              1               5   \n",
       "4                 2          1        Medical              1               7   \n",
       "\n",
       "   ...  RelationshipSatisfaction StandardHours  StockOptionLevel  \\\n",
       "0  ...                         1            80                 0   \n",
       "1  ...                         4            80                 1   \n",
       "2  ...                         2            80                 0   \n",
       "3  ...                         3            80                 0   \n",
       "4  ...                         4            80                 1   \n",
       "\n",
       "   TotalWorkingYears  TrainingTimesLastYear WorkLifeBalance  YearsAtCompany  \\\n",
       "0                  8                      0               1               6   \n",
       "1                 10                      3               3              10   \n",
       "2                  7                      3               3               0   \n",
       "3                  8                      3               3               8   \n",
       "4                  6                      3               3               2   \n",
       "\n",
       "  YearsInCurrentRole  YearsSinceLastPromotion  YearsWithCurrManager  \n",
       "0                  4                        0                     5  \n",
       "1                  7                        1                     7  \n",
       "2                  0                        0                     0  \n",
       "3                  7                        3                     0  \n",
       "4                  2                        2                     2  \n",
       "\n",
       "[5 rows x 35 columns]"
      ]
     },
     "metadata": {},
     "execution_count": 63
    }
   ],
   "source": [
    "df = pd.read_csv(\"employee-attrition.csv\")\n",
    "df = df.dropna()\n",
    "df.head()"
   ]
  },
  {
   "source": [
    "### Selecting variables"
   ],
   "cell_type": "markdown",
   "metadata": {}
  },
  {
   "cell_type": "code",
   "execution_count": 64,
   "metadata": {},
   "outputs": [
    {
     "output_type": "execute_result",
     "data": {
      "text/plain": [
       "No     1233\n",
       "Yes     237\n",
       "Name: Attrition, dtype: int64"
      ]
     },
     "metadata": {},
     "execution_count": 64
    }
   ],
   "source": [
    "df['Attrition'].value_counts()"
   ]
  },
  {
   "source": [
    "Attrition is categorical variable. I will convert it into numbers. \n",
    "\n"
   ],
   "cell_type": "markdown",
   "metadata": {}
  },
  {
   "cell_type": "code",
   "execution_count": 65,
   "metadata": {},
   "outputs": [],
   "source": [
    "df['Attrition'].replace('Yes',1, inplace=True)\n",
    "df['Attrition'].replace('No',0, inplace=True)"
   ]
  },
  {
   "source": [
    "### Selecting variables.\n",
    "In order to select variables I will check which variables have the highest correlation with Attrition. "
   ],
   "cell_type": "markdown",
   "metadata": {}
  },
  {
   "cell_type": "code",
   "execution_count": 66,
   "metadata": {},
   "outputs": [
    {
     "output_type": "execute_result",
     "data": {
      "text/plain": [
       "Attrition                   1.000000\n",
       "DailyRate                  -0.056652\n",
       "DistanceFromHome            0.077924\n",
       "Education                  -0.031373\n",
       "EmployeeCount                    NaN\n",
       "EmployeeNumber             -0.010577\n",
       "EnvironmentSatisfaction    -0.103369\n",
       "HourlyRate                 -0.006846\n",
       "JobInvolvement             -0.130016\n",
       "JobLevel                   -0.169105\n",
       "JobSatisfaction            -0.103481\n",
       "MonthlyIncome              -0.159840\n",
       "MonthlyRate                 0.015170\n",
       "NumCompaniesWorked          0.043494\n",
       "PercentSalaryHike          -0.013478\n",
       "PerformanceRating           0.002889\n",
       "RelationshipSatisfaction   -0.045872\n",
       "StandardHours                    NaN\n",
       "StockOptionLevel           -0.137145\n",
       "TotalWorkingYears          -0.171063\n",
       "TrainingTimesLastYear      -0.059478\n",
       "WorkLifeBalance            -0.063939\n",
       "YearsAtCompany             -0.134392\n",
       "YearsInCurrentRole         -0.160545\n",
       "YearsSinceLastPromotion    -0.033019\n",
       "YearsWithCurrManager       -0.156199\n",
       "Name: Attrition, dtype: float64"
      ]
     },
     "metadata": {},
     "execution_count": 66
    }
   ],
   "source": [
    "df[df.columns[1:]].corr()['Attrition'][:]"
   ]
  },
  {
   "source": [
    "Based on correlation I have chosen variables such as: \n",
    "\n",
    "- TotalWorkingYears -0.171063\n",
    "- JobLevel -0.169105\n",
    "- YearsInCurrentRole -0.16054\n",
    "- MonthlyIncome -0.159840\n",
    "- YearsWithCurrManager -0.156199\n",
    "- StockOptionLevel -0.137145\n",
    "- YearsAtCompany -0.134392\n"
   ],
   "cell_type": "markdown",
   "metadata": {}
  },
  {
   "cell_type": "code",
   "execution_count": 67,
   "metadata": {},
   "outputs": [
    {
     "output_type": "execute_result",
     "data": {
      "text/html": "<div>\n<style scoped>\n    .dataframe tbody tr th:only-of-type {\n        vertical-align: middle;\n    }\n\n    .dataframe tbody tr th {\n        vertical-align: top;\n    }\n\n    .dataframe thead th {\n        text-align: right;\n    }\n</style>\n<table border=\"1\" class=\"dataframe\">\n  <thead>\n    <tr style=\"text-align: right;\">\n      <th></th>\n      <th>Attrition</th>\n      <th>TotalWorkingYears</th>\n      <th>JobLevel</th>\n      <th>YearsInCurrentRole</th>\n      <th>MonthlyIncome</th>\n      <th>YearsWithCurrManager</th>\n      <th>StockOptionLevel</th>\n      <th>YearsAtCompany</th>\n    </tr>\n  </thead>\n  <tbody>\n    <tr>\n      <th>0</th>\n      <td>1</td>\n      <td>8</td>\n      <td>2</td>\n      <td>4</td>\n      <td>5993</td>\n      <td>5</td>\n      <td>0</td>\n      <td>6</td>\n    </tr>\n    <tr>\n      <th>1</th>\n      <td>0</td>\n      <td>10</td>\n      <td>2</td>\n      <td>7</td>\n      <td>5130</td>\n      <td>7</td>\n      <td>1</td>\n      <td>10</td>\n    </tr>\n    <tr>\n      <th>2</th>\n      <td>1</td>\n      <td>7</td>\n      <td>1</td>\n      <td>0</td>\n      <td>2090</td>\n      <td>0</td>\n      <td>0</td>\n      <td>0</td>\n    </tr>\n    <tr>\n      <th>3</th>\n      <td>0</td>\n      <td>8</td>\n      <td>1</td>\n      <td>7</td>\n      <td>2909</td>\n      <td>0</td>\n      <td>0</td>\n      <td>8</td>\n    </tr>\n    <tr>\n      <th>4</th>\n      <td>0</td>\n      <td>6</td>\n      <td>1</td>\n      <td>2</td>\n      <td>3468</td>\n      <td>2</td>\n      <td>1</td>\n      <td>2</td>\n    </tr>\n  </tbody>\n</table>\n</div>",
      "text/plain": [
       "   Attrition  TotalWorkingYears  JobLevel  YearsInCurrentRole  MonthlyIncome  \\\n",
       "0          1                  8         2                   4           5993   \n",
       "1          0                 10         2                   7           5130   \n",
       "2          1                  7         1                   0           2090   \n",
       "3          0                  8         1                   7           2909   \n",
       "4          0                  6         1                   2           3468   \n",
       "\n",
       "   YearsWithCurrManager  StockOptionLevel  YearsAtCompany  \n",
       "0                     5                 0               6  \n",
       "1                     7                 1              10  \n",
       "2                     0                 0               0  \n",
       "3                     0                 0               8  \n",
       "4                     2                 1               2  "
      ]
     },
     "metadata": {},
     "execution_count": 67
    }
   ],
   "source": [
    "df = df[['Attrition', 'TotalWorkingYears', 'JobLevel', 'YearsInCurrentRole', 'MonthlyIncome', 'YearsWithCurrManager', 'StockOptionLevel', 'YearsAtCompany' ]]\n",
    "df = df.dropna()\n",
    "df.head()"
   ]
  },
  {
   "source": [
    "### Selecting an algorithm\n",
    "I will use K-nearest neighbout algorithm. It is mostly used to classifies a data point based on how its neighbours are classified."
   ],
   "cell_type": "markdown",
   "metadata": {}
  },
  {
   "cell_type": "code",
   "execution_count": 68,
   "metadata": {},
   "outputs": [
    {
     "output_type": "execute_result",
     "data": {
      "text/html": "<div>\n<style scoped>\n    .dataframe tbody tr th:only-of-type {\n        vertical-align: middle;\n    }\n\n    .dataframe tbody tr th {\n        vertical-align: top;\n    }\n\n    .dataframe thead th {\n        text-align: right;\n    }\n</style>\n<table border=\"1\" class=\"dataframe\">\n  <thead>\n    <tr style=\"text-align: right;\">\n      <th></th>\n      <th>TotalWorkingYears</th>\n      <th>JobLevel</th>\n      <th>YearsInCurrentRole</th>\n      <th>MonthlyIncome</th>\n      <th>YearsWithCurrManager</th>\n      <th>StockOptionLevel</th>\n      <th>YearsAtCompany</th>\n    </tr>\n  </thead>\n  <tbody>\n    <tr>\n      <th>99</th>\n      <td>17</td>\n      <td>2</td>\n      <td>2</td>\n      <td>2042</td>\n      <td>2</td>\n      <td>1</td>\n      <td>3</td>\n    </tr>\n    <tr>\n      <th>785</th>\n      <td>14</td>\n      <td>3</td>\n      <td>10</td>\n      <td>10322</td>\n      <td>1</td>\n      <td>1</td>\n      <td>11</td>\n    </tr>\n    <tr>\n      <th>918</th>\n      <td>31</td>\n      <td>5</td>\n      <td>10</td>\n      <td>19847</td>\n      <td>10</td>\n      <td>1</td>\n      <td>29</td>\n    </tr>\n    <tr>\n      <th>1335</th>\n      <td>7</td>\n      <td>2</td>\n      <td>2</td>\n      <td>3902</td>\n      <td>2</td>\n      <td>3</td>\n      <td>2</td>\n    </tr>\n    <tr>\n      <th>1182</th>\n      <td>4</td>\n      <td>2</td>\n      <td>2</td>\n      <td>4374</td>\n      <td>2</td>\n      <td>0</td>\n      <td>3</td>\n    </tr>\n  </tbody>\n</table>\n</div>",
      "text/plain": [
       "      TotalWorkingYears  JobLevel  YearsInCurrentRole  MonthlyIncome  \\\n",
       "99                   17         2                   2           2042   \n",
       "785                  14         3                  10          10322   \n",
       "918                  31         5                  10          19847   \n",
       "1335                  7         2                   2           3902   \n",
       "1182                  4         2                   2           4374   \n",
       "\n",
       "      YearsWithCurrManager  StockOptionLevel  YearsAtCompany  \n",
       "99                       2                 1               3  \n",
       "785                      1                 1              11  \n",
       "918                     10                 1              29  \n",
       "1335                     2                 3               2  \n",
       "1182                     2                 0               3  "
      ]
     },
     "metadata": {},
     "execution_count": 68
    }
   ],
   "source": [
    "X = df[['TotalWorkingYears', 'JobLevel', 'YearsInCurrentRole', 'MonthlyIncome', 'YearsWithCurrManager', 'StockOptionLevel', 'YearsAtCompany']]\n",
    "y = df['Attrition']\n",
    "\n",
    "X_train, X_test, y_train, y_test = train_test_split(X, y, test_size = 0.3, random_state=1) \n",
    "X_train.head()"
   ]
  },
  {
   "cell_type": "code",
   "execution_count": 69,
   "metadata": {},
   "outputs": [],
   "source": [
    "from sklearn.neighbors import KNeighborsClassifier\n",
    "\n",
    "knn = KNeighborsClassifier() \n",
    "knn = knn.fit(X_train, y_train) "
   ]
  },
  {
   "source": [
    "### Model evaluation"
   ],
   "cell_type": "markdown",
   "metadata": {}
  },
  {
   "source": [
    "I will start with calculating accuracy."
   ],
   "cell_type": "markdown",
   "metadata": {}
  },
  {
   "cell_type": "code",
   "execution_count": 70,
   "metadata": {},
   "outputs": [
    {
     "output_type": "execute_result",
     "data": {
      "text/plain": [
       "0.8095238095238095"
      ]
     },
     "metadata": {},
     "execution_count": 70
    }
   ],
   "source": [
    "knn.score(X_test, y_test) "
   ]
  },
  {
   "source": [
    "Accuracy is 80.95%. To evaluate I am going to create a confusion matrix. "
   ],
   "cell_type": "markdown",
   "metadata": {}
  },
  {
   "cell_type": "code",
   "execution_count": 71,
   "metadata": {},
   "outputs": [
    {
     "output_type": "execute_result",
     "data": {
      "text/html": "<div>\n<style scoped>\n    .dataframe tbody tr th:only-of-type {\n        vertical-align: middle;\n    }\n\n    .dataframe tbody tr th {\n        vertical-align: top;\n    }\n\n    .dataframe thead th {\n        text-align: right;\n    }\n</style>\n<table border=\"1\" class=\"dataframe\">\n  <thead>\n    <tr style=\"text-align: right;\">\n      <th></th>\n      <th>no - predicted</th>\n      <th>yes - predicted</th>\n    </tr>\n  </thead>\n  <tbody>\n    <tr>\n      <th>no - actual</th>\n      <td>350</td>\n      <td>14</td>\n    </tr>\n    <tr>\n      <th>yes - actual</th>\n      <td>70</td>\n      <td>7</td>\n    </tr>\n  </tbody>\n</table>\n</div>",
      "text/plain": [
       "              no - predicted  yes - predicted\n",
       "no - actual              350               14\n",
       "yes - actual              70                7"
      ]
     },
     "metadata": {},
     "execution_count": 71
    }
   ],
   "source": [
    "y_test_pred = knn.predict(X_test) \n",
    "cm = confusion_matrix(y_test, y_test_pred)\n",
    "conf_matrix = pd.DataFrame(cm, index=['no - actual', 'yes - actual'], columns = ['no - predicted', 'yes - predicted']) \n",
    "conf_matrix"
   ]
  },
  {
   "cell_type": "code",
   "execution_count": 72,
   "metadata": {
    "tags": []
   },
   "outputs": [
    {
     "output_type": "stream",
     "name": "stdout",
     "text": [
      "              precision    recall  f1-score   support\n\n           0       0.83      0.96      0.89       364\n           1       0.33      0.09      0.14        77\n\n   micro avg       0.81      0.81      0.81       441\n   macro avg       0.58      0.53      0.52       441\nweighted avg       0.75      0.81      0.76       441\n\n"
     ]
    }
   ],
   "source": [
    "print(classification_report(y_test, y_test_pred))\n"
   ]
  },
  {
   "source": [
    "The performance does not look good. \n",
    "- precision for no = 83%\n",
    "- recall for no = 96%\n",
    "- precision for yes = 30%\n",
    "- recall for yes = 8%"
   ],
   "cell_type": "markdown",
   "metadata": {}
  },
  {
   "cell_type": "code",
   "execution_count": 73,
   "metadata": {},
   "outputs": [
    {
     "output_type": "stream",
     "name": "stdout",
     "text": [
      "set([1])\n",
      "              precision    recall  f1-score   support\n",
      "\n",
      "           0       0.84      0.85      0.84       364\n",
      "           1       0.24      0.22      0.23        77\n",
      "\n",
      "   micro avg       0.74      0.74      0.74       441\n",
      "   macro avg       0.54      0.54      0.54       441\n",
      "weighted avg       0.73      0.74      0.74       441\n",
      "\n",
      "set([2])\n",
      "              precision    recall  f1-score   support\n",
      "\n",
      "           0       0.83      0.96      0.89       364\n",
      "           1       0.25      0.06      0.10        77\n",
      "\n",
      "   micro avg       0.80      0.80      0.80       441\n",
      "   macro avg       0.54      0.51      0.50       441\n",
      "weighted avg       0.73      0.80      0.75       441\n",
      "\n",
      "set([3])\n",
      "              precision    recall  f1-score   support\n",
      "\n",
      "           0       0.83      0.91      0.87       364\n",
      "           1       0.24      0.13      0.17        77\n",
      "\n",
      "   micro avg       0.78      0.78      0.78       441\n",
      "   macro avg       0.54      0.52      0.52       441\n",
      "weighted avg       0.73      0.78      0.75       441\n",
      "\n",
      "set([4])\n",
      "              precision    recall  f1-score   support\n",
      "\n",
      "           0       0.83      0.98      0.90       364\n",
      "           1       0.36      0.05      0.09        77\n",
      "\n",
      "   micro avg       0.82      0.82      0.82       441\n",
      "   macro avg       0.60      0.52      0.50       441\n",
      "weighted avg       0.75      0.82      0.76       441\n",
      "\n",
      "set([5])\n",
      "              precision    recall  f1-score   support\n",
      "\n",
      "           0       0.83      0.96      0.89       364\n",
      "           1       0.33      0.09      0.14        77\n",
      "\n",
      "   micro avg       0.81      0.81      0.81       441\n",
      "   macro avg       0.58      0.53      0.52       441\n",
      "weighted avg       0.75      0.81      0.76       441\n",
      "\n",
      "set([6])\n",
      "              precision    recall  f1-score   support\n",
      "\n",
      "           0       0.83      0.98      0.90       364\n",
      "           1       0.25      0.03      0.05        77\n",
      "\n",
      "   micro avg       0.82      0.82      0.82       441\n",
      "   macro avg       0.54      0.50      0.47       441\n",
      "weighted avg       0.73      0.82      0.75       441\n",
      "\n",
      "set([7])\n",
      "              precision    recall  f1-score   support\n",
      "\n",
      "           0       0.83      0.97      0.89       364\n",
      "           1       0.21      0.04      0.07        77\n",
      "\n",
      "   micro avg       0.81      0.81      0.81       441\n",
      "   macro avg       0.52      0.50      0.48       441\n",
      "weighted avg       0.72      0.81      0.75       441\n",
      "\n",
      "set([8])\n",
      "              precision    recall  f1-score   support\n",
      "\n",
      "           0       0.83      0.99      0.90       364\n",
      "           1       0.33      0.01      0.03        77\n",
      "\n",
      "   micro avg       0.82      0.82      0.82       441\n",
      "   macro avg       0.58      0.50      0.46       441\n",
      "weighted avg       0.74      0.82      0.75       441\n",
      "\n",
      "set([9])\n",
      "              precision    recall  f1-score   support\n",
      "\n",
      "           0       0.83      0.99      0.90       364\n",
      "           1       0.20      0.01      0.02        77\n",
      "\n",
      "   micro avg       0.82      0.82      0.82       441\n",
      "   macro avg       0.51      0.50      0.46       441\n",
      "weighted avg       0.72      0.82      0.75       441\n",
      "\n",
      "set([10])\n",
      "              precision    recall  f1-score   support\n",
      "\n",
      "           0       0.83      1.00      0.90       364\n",
      "           1       0.50      0.01      0.03        77\n",
      "\n",
      "   micro avg       0.83      0.83      0.83       441\n",
      "   macro avg       0.66      0.51      0.46       441\n",
      "weighted avg       0.77      0.83      0.75       441\n",
      "\n"
     ]
    }
   ],
   "source": [
    "for i in range(1,11):\n",
    "    knn_new = KNeighborsClassifier(n_neighbors = i) \n",
    "    knn_new = knn_new.fit(X_train, y_train) \n",
    "    y_test_pred_new = knn_new.predict(X_test) \n",
    "    print({i})\n",
    "    print(classification_report(y_test, y_test_pred_new)) "
   ]
  },
  {
   "source": [
    "Situation is common for other values."
   ],
   "cell_type": "markdown",
   "metadata": {}
  }
 ],
 "metadata": {
  "kernelspec": {
   "name": "python2",
   "display_name": "Python 2"
  },
  "language_info": {
   "codemirror_mode": {
    "name": "ipython",
    "version": 2
   },
   "file_extension": ".py",
   "mimetype": "text/x-python",
   "name": "python",
   "nbconvert_exporter": "python",
   "pygments_lexer": "ipython2",
   "version": "2.7.16-final"
  }
 },
 "nbformat": 4,
 "nbformat_minor": 2
}