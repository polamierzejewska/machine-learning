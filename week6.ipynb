{
 "cells": [
  {
   "cell_type": "markdown",
   "metadata": {},
   "source": [
    "# Week 6 - Text mining"
   ]
  },
  {
   "source": [
    "### Objective\n",
    "\n",
    "Predict whether dresses reviews are positive (>3 stars) or neutral/negative (<4 stars)."
   ],
   "cell_type": "markdown",
   "metadata": {}
  },
  {
   "source": [
    "### Description of BoW & Naive Bayes\n",
    "\n",
    "Naive Bayes models are based on a statistical classification technique called ‘Bayes Theorem’.  It classifies features as seperate and independent. It is called 'naive' because the presence of a certain feature in a dataset is completely unrelated to the presence of any other feature.\n",
    "\n",
    "The bag-of-words model is a way of representing text data when modeling text with machine learning algorithms."
   ],
   "cell_type": "markdown",
   "metadata": {}
  },
  {
   "cell_type": "code",
   "execution_count": 2,
   "metadata": {},
   "outputs": [],
   "source": [
    "import pandas as pd\n",
    "from sklearn.feature_extraction.text import CountVectorizer \n",
    "from sklearn.model_selection import train_test_split\n",
    "from sklearn.naive_bayes import MultinomialNB\n",
    "from sklearn.metrics import confusion_matrix\n",
    "from sklearn.metrics import classification_report\n",
    "import numpy as np"
   ]
  },
  {
   "cell_type": "code",
   "execution_count": 3,
   "metadata": {},
   "outputs": [
    {
     "output_type": "execute_result",
     "data": {
      "text/plain": [
       "   Unnamed: 0  Clothing ID  Age                    Title  \\\n",
       "2           2         1077   60  Some major design flaws   \n",
       "3           3         1049   50         My favorite buy!   \n",
       "4           4          847   47         Flattering shirt   \n",
       "5           5         1080   49  Not for the very petite   \n",
       "6           6          858   39     Cagrcoal shimmer fun   \n",
       "\n",
       "                                         Review Text  Rating  Recommended IND  \\\n",
       "2  I had such high hopes for this dress and reall...       3                0   \n",
       "3  I love, love, love this jumpsuit. it's fun, fl...       5                1   \n",
       "4  This shirt is very flattering to all due to th...       5                1   \n",
       "5  I love tracy reese dresses, but this one is no...       2                0   \n",
       "6  I aded this in my basket at hte last mintue to...       5                1   \n",
       "\n",
       "   Positive Feedback Count   Division Name Department Name Class Name  \n",
       "2                        0         General         Dresses    Dresses  \n",
       "3                        0  General Petite         Bottoms      Pants  \n",
       "4                        6         General            Tops    Blouses  \n",
       "5                        4         General         Dresses    Dresses  \n",
       "6                        1  General Petite            Tops      Knits  "
      ],
      "text/html": "<div>\n<style scoped>\n    .dataframe tbody tr th:only-of-type {\n        vertical-align: middle;\n    }\n\n    .dataframe tbody tr th {\n        vertical-align: top;\n    }\n\n    .dataframe thead th {\n        text-align: right;\n    }\n</style>\n<table border=\"1\" class=\"dataframe\">\n  <thead>\n    <tr style=\"text-align: right;\">\n      <th></th>\n      <th>Unnamed: 0</th>\n      <th>Clothing ID</th>\n      <th>Age</th>\n      <th>Title</th>\n      <th>Review Text</th>\n      <th>Rating</th>\n      <th>Recommended IND</th>\n      <th>Positive Feedback Count</th>\n      <th>Division Name</th>\n      <th>Department Name</th>\n      <th>Class Name</th>\n    </tr>\n  </thead>\n  <tbody>\n    <tr>\n      <th>2</th>\n      <td>2</td>\n      <td>1077</td>\n      <td>60</td>\n      <td>Some major design flaws</td>\n      <td>I had such high hopes for this dress and reall...</td>\n      <td>3</td>\n      <td>0</td>\n      <td>0</td>\n      <td>General</td>\n      <td>Dresses</td>\n      <td>Dresses</td>\n    </tr>\n    <tr>\n      <th>3</th>\n      <td>3</td>\n      <td>1049</td>\n      <td>50</td>\n      <td>My favorite buy!</td>\n      <td>I love, love, love this jumpsuit. it's fun, fl...</td>\n      <td>5</td>\n      <td>1</td>\n      <td>0</td>\n      <td>General Petite</td>\n      <td>Bottoms</td>\n      <td>Pants</td>\n    </tr>\n    <tr>\n      <th>4</th>\n      <td>4</td>\n      <td>847</td>\n      <td>47</td>\n      <td>Flattering shirt</td>\n      <td>This shirt is very flattering to all due to th...</td>\n      <td>5</td>\n      <td>1</td>\n      <td>6</td>\n      <td>General</td>\n      <td>Tops</td>\n      <td>Blouses</td>\n    </tr>\n    <tr>\n      <th>5</th>\n      <td>5</td>\n      <td>1080</td>\n      <td>49</td>\n      <td>Not for the very petite</td>\n      <td>I love tracy reese dresses, but this one is no...</td>\n      <td>2</td>\n      <td>0</td>\n      <td>4</td>\n      <td>General</td>\n      <td>Dresses</td>\n      <td>Dresses</td>\n    </tr>\n    <tr>\n      <th>6</th>\n      <td>6</td>\n      <td>858</td>\n      <td>39</td>\n      <td>Cagrcoal shimmer fun</td>\n      <td>I aded this in my basket at hte last mintue to...</td>\n      <td>5</td>\n      <td>1</td>\n      <td>1</td>\n      <td>General Petite</td>\n      <td>Tops</td>\n      <td>Knits</td>\n    </tr>\n  </tbody>\n</table>\n</div>"
     },
     "metadata": {},
     "execution_count": 3
    }
   ],
   "source": [
    "df = pd.read_csv(\"womens-clothing.csv\")\n",
    "df = df.dropna()\n",
    "df.head()"
   ]
  },
  {
   "source": [
    "### Pre-processing steps"
   ],
   "cell_type": "markdown",
   "metadata": {}
  },
  {
   "cell_type": "code",
   "execution_count": 4,
   "metadata": {},
   "outputs": [],
   "source": [
    "df = df.loc[(df['Class Name'] == 'Dresses')]"
   ]
  },
  {
   "cell_type": "code",
   "execution_count": 5,
   "metadata": {},
   "outputs": [],
   "source": [
    "df = df[['Review Text', 'Rating']]"
   ]
  },
  {
   "cell_type": "code",
   "execution_count": 6,
   "metadata": {},
   "outputs": [],
   "source": [
    "# Separating ratings\n",
    "df.loc[df['Rating'] < 4, 'Positive or Negative'] = '0' \n",
    "df.loc[df['Rating'] > 3, 'Positive or Negative'] = '1'"
   ]
  },
  {
   "cell_type": "code",
   "execution_count": 7,
   "metadata": {},
   "outputs": [
    {
     "output_type": "execute_result",
     "data": {
      "text/plain": [
       "                                          Review Text  Rating  \\\n",
       "2   I had such high hopes for this dress and reall...       3   \n",
       "5   I love tracy reese dresses, but this one is no...       2   \n",
       "8   I love this dress. i usually get an xs but it ...       5   \n",
       "9   I'm 5\"5' and 125 lbs. i ordered the s petite t...       5   \n",
       "10  Dress runs small esp where the zipper area run...       3   \n",
       "\n",
       "   Positive or Negative  \n",
       "2                     0  \n",
       "5                     0  \n",
       "8                     1  \n",
       "9                     1  \n",
       "10                    0  "
      ],
      "text/html": "<div>\n<style scoped>\n    .dataframe tbody tr th:only-of-type {\n        vertical-align: middle;\n    }\n\n    .dataframe tbody tr th {\n        vertical-align: top;\n    }\n\n    .dataframe thead th {\n        text-align: right;\n    }\n</style>\n<table border=\"1\" class=\"dataframe\">\n  <thead>\n    <tr style=\"text-align: right;\">\n      <th></th>\n      <th>Review Text</th>\n      <th>Rating</th>\n      <th>Positive or Negative</th>\n    </tr>\n  </thead>\n  <tbody>\n    <tr>\n      <th>2</th>\n      <td>I had such high hopes for this dress and reall...</td>\n      <td>3</td>\n      <td>0</td>\n    </tr>\n    <tr>\n      <th>5</th>\n      <td>I love tracy reese dresses, but this one is no...</td>\n      <td>2</td>\n      <td>0</td>\n    </tr>\n    <tr>\n      <th>8</th>\n      <td>I love this dress. i usually get an xs but it ...</td>\n      <td>5</td>\n      <td>1</td>\n    </tr>\n    <tr>\n      <th>9</th>\n      <td>I'm 5\"5' and 125 lbs. i ordered the s petite t...</td>\n      <td>5</td>\n      <td>1</td>\n    </tr>\n    <tr>\n      <th>10</th>\n      <td>Dress runs small esp where the zipper area run...</td>\n      <td>3</td>\n      <td>0</td>\n    </tr>\n  </tbody>\n</table>\n</div>"
     },
     "metadata": {},
     "execution_count": 7
    }
   ],
   "source": [
    "df.head()"
   ]
  },
  {
   "cell_type": "code",
   "execution_count": 8,
   "metadata": {},
   "outputs": [],
   "source": [
    "# Converting text to unicode\n",
    "text = df['Review Text'].values.astype('U')"
   ]
  },
  {
   "cell_type": "code",
   "execution_count": 9,
   "metadata": {},
   "outputs": [],
   "source": [
    "# Object with English stopwords\n",
    "vect = CountVectorizer(stop_words = 'english')\n",
    "vect = vect.fit(text)"
   ]
  },
  {
   "cell_type": "code",
   "execution_count": 10,
   "metadata": {},
   "outputs": [
    {
     "output_type": "stream",
     "name": "stdout",
     "text": [
      "There are 7747 words in the vocabulary. A selection: ['attractive', 'attractively', 'attributed', 'atypical', 'auction', 'audrey', 'august', 'austin', 'authentic', 'authenticity', 'autobots', 'automatically', 'autumn', 'autumnal', 'avail', 'availability', 'available', 'average', 'avid', 'avoid']\n"
     ]
    }
   ],
   "source": [
    "# Getting text\n",
    "feature_names = vect.get_feature_names()\n",
    "print(f\"There are {len(feature_names)} words in the vocabulary. A selection: {feature_names[700:720]}\")"
   ]
  },
  {
   "source": [
    "### Document-feature matrix"
   ],
   "cell_type": "markdown",
   "metadata": {}
  },
  {
   "cell_type": "code",
   "execution_count": 11,
   "metadata": {},
   "outputs": [
    {
     "output_type": "stream",
     "name": "stdout",
     "text": [
      "  (1, 7)\t1\n  (15, 37)\t1\n  (16, 3)\t1\n  (16, 44)\t1\n  (17, 11)\t1\n  (19, 39)\t1\n  (26, 11)\t2\n  (29, 30)\t1\n  (43, 0)\t1\n"
     ]
    }
   ],
   "source": [
    "doc_feat = vect.transform(text)\n",
    "print(doc_feat[0 :50, 0 : 50])"
   ]
  },
  {
   "cell_type": "code",
   "execution_count": 12,
   "metadata": {},
   "outputs": [
    {
     "output_type": "stream",
     "name": "stdout",
     "text": [
      "  (1, 7)\t1\n  (15, 37)\t1\n  (16, 3)\t1\n  (16, 44)\t1\n  (17, 11)\t1\n  (19, 39)\t1\n  (26, 11)\t2\n  (29, 30)\t1\n  (43, 0)\t1\n"
     ]
    }
   ],
   "source": [
    "doc_feat = vect.transform(text)\n",
    "print(doc_feat[0 :50, 0 : 50])"
   ]
  },
  {
   "source": [
    "### Model training"
   ],
   "cell_type": "markdown",
   "metadata": {}
  },
  {
   "cell_type": "code",
   "execution_count": 13,
   "metadata": {},
   "outputs": [],
   "source": [
    "nb = MultinomialNB()\n",
    "X = doc_feat\n",
    "y = df['Positive or Negative']\n",
    "# Train and test data\n",
    "X_train, X_test, y_train, y_test = train_test_split(X, y, test_size=0.3, random_state=1)\n",
    "# Model fit\n",
    "nb = nb.fit(X_train, y_train)"
   ]
  },
  {
   "source": [
    "### Evaluation "
   ],
   "cell_type": "markdown",
   "metadata": {}
  },
  {
   "cell_type": "code",
   "execution_count": 14,
   "metadata": {},
   "outputs": [
    {
     "output_type": "execute_result",
     "data": {
      "text/plain": [
       "0.8542183622828784"
      ]
     },
     "metadata": {},
     "execution_count": 14
    }
   ],
   "source": [
    "# Creating predictions\n",
    "y_test_p = nb.predict(X_test)\n",
    "# Accuracy of the predictions\n",
    "nb.score(X_test, y_test)"
   ]
  },
  {
   "source": [
    "The accuracy is 85%."
   ],
   "cell_type": "markdown",
   "metadata": {}
  },
  {
   "cell_type": "code",
   "execution_count": 17,
   "metadata": {},
   "outputs": [
    {
     "output_type": "execute_result",
     "data": {
      "text/plain": [
       "1    0.753119\n",
       "0    0.246881\n",
       "Name: Positive or Negative, dtype: float64"
      ]
     },
     "metadata": {},
     "execution_count": 17
    }
   ],
   "source": [
    "df['Positive or Negative'].value_counts(normalize=True)"
   ]
  },
  {
   "source": [
    "In case of guessing only 'Positive' we would be guessing it 75% of the time correctly."
   ],
   "cell_type": "markdown",
   "metadata": {}
  },
  {
   "source": [
    "### Confusion Matrix"
   ],
   "cell_type": "markdown",
   "metadata": {}
  },
  {
   "cell_type": "code",
   "execution_count": 18,
   "metadata": {},
   "outputs": [
    {
     "output_type": "execute_result",
     "data": {
      "text/plain": [
       "                     Neutral or Negative predictions  Positive predictions\n",
       "Neutral or Negative                              238                   168\n",
       "Positive                                          67                  1139"
      ],
      "text/html": "<div>\n<style scoped>\n    .dataframe tbody tr th:only-of-type {\n        vertical-align: middle;\n    }\n\n    .dataframe tbody tr th {\n        vertical-align: top;\n    }\n\n    .dataframe thead th {\n        text-align: right;\n    }\n</style>\n<table border=\"1\" class=\"dataframe\">\n  <thead>\n    <tr style=\"text-align: right;\">\n      <th></th>\n      <th>Neutral or Negative predictions</th>\n      <th>Positive predictions</th>\n    </tr>\n  </thead>\n  <tbody>\n    <tr>\n      <th>Neutral or Negative</th>\n      <td>238</td>\n      <td>168</td>\n    </tr>\n    <tr>\n      <th>Positive</th>\n      <td>67</td>\n      <td>1139</td>\n    </tr>\n  </tbody>\n</table>\n</div>"
     },
     "metadata": {},
     "execution_count": 18
    }
   ],
   "source": [
    "cm = confusion_matrix(y_test, y_test_p)\n",
    "cm = pd.DataFrame(cm, index=['Neutral or Negative', 'Positive'], columns=['Neutral or Negative predictions', 'Positive predictions'])\n",
    "cm"
   ]
  },
  {
   "cell_type": "code",
   "execution_count": 19,
   "metadata": {},
   "outputs": [
    {
     "output_type": "stream",
     "name": "stdout",
     "text": [
      "              precision    recall  f1-score   support\n\n           0       0.78      0.59      0.67       406\n           1       0.87      0.94      0.91      1206\n\n    accuracy                           0.85      1612\n   macro avg       0.83      0.77      0.79      1612\nweighted avg       0.85      0.85      0.85      1612\n\n"
     ]
    }
   ],
   "source": [
    "# Classification report\n",
    "print(classification_report(y_test, y_test_p))"
   ]
  },
  {
   "source": [
    "The prediciton of 'Positive' is 87%. \n",
    "The recall of 'Positive' is 94%.\n",
    "That means that real positice ratings are 94% of all 'Positive' predictions."
   ],
   "cell_type": "markdown",
   "metadata": {}
  },
  {
   "source": [
    "### Is model off-target?"
   ],
   "cell_type": "markdown",
   "metadata": {}
  },
  {
   "cell_type": "code",
   "execution_count": 43,
   "metadata": {},
   "outputs": [
    {
     "output_type": "execute_result",
     "data": {
      "text/plain": [
       "    y_test y_test_p\n",
       "12       1        0\n",
       "383      0        1\n",
       "417      0        1"
      ],
      "text/html": "<div>\n<style scoped>\n    .dataframe tbody tr th:only-of-type {\n        vertical-align: middle;\n    }\n\n    .dataframe tbody tr th {\n        vertical-align: top;\n    }\n\n    .dataframe thead th {\n        text-align: right;\n    }\n</style>\n<table border=\"1\" class=\"dataframe\">\n  <thead>\n    <tr style=\"text-align: right;\">\n      <th></th>\n      <th>y_test</th>\n      <th>y_test_p</th>\n    </tr>\n  </thead>\n  <tbody>\n    <tr>\n      <th>12</th>\n      <td>1</td>\n      <td>0</td>\n    </tr>\n    <tr>\n      <th>383</th>\n      <td>0</td>\n      <td>1</td>\n    </tr>\n    <tr>\n      <th>417</th>\n      <td>0</td>\n      <td>1</td>\n    </tr>\n  </tbody>\n</table>\n</div>"
     },
     "metadata": {},
     "execution_count": 43
    }
   ],
   "source": [
    "# Looking for wrong predictions\n",
    "test_data = pd.DataFrame({'y_test' : y_test, 'y_test_p' : y_test_p})\n",
    "test_data[test_data['y_test'] != test_data['y_test_p']].sort_index().head(3)"
   ]
  },
  {
   "cell_type": "code",
   "execution_count": 34,
   "metadata": {},
   "outputs": [
    {
     "output_type": "execute_result",
     "data": {
      "text/plain": [
       "'I really wanted this to work. alas, it had a strange fit for me. the straps would not stay up, and it had a weird fit under the breast. it worked standing up, but the minute i sat down it fell off my shoulders. the fabric was beautiful! and i loved that it had pockets.'"
      ]
     },
     "metadata": {},
     "execution_count": 34
    }
   ],
   "source": [
    "# Mistaken review (Positive one, predicted as negative)\n",
    "df.iloc[12]['Review Text']\n"
   ]
  },
  {
   "source": [
    "Words like 'strange', 'weird' may impact the model."
   ],
   "cell_type": "markdown",
   "metadata": {}
  },
  {
   "cell_type": "code",
   "execution_count": 41,
   "metadata": {},
   "outputs": [
    {
     "output_type": "execute_result",
     "data": {
      "text/plain": [
       "'This dress is adorable and well made. this brand runs on the large side. i ordered an xs and the tag says \\'p\" on it. it\\'s not petite. it ran large through the hips and will need alteration. i\\'m keeping it because it is really cute and is well made. the material is knit and soft - very comfortable. i\\'m surprised nobody has reviewed this item. i probably will not buy this brand again only because it runs large.'"
      ]
     },
     "metadata": {},
     "execution_count": 41
    }
   ],
   "source": [
    "# Mistaken review (Negative one, predicted as positive)\n",
    "df.iloc[383]['Review Text']"
   ]
  },
  {
   "source": [
    "'...will not buy', 'runs large' may impact the model."
   ],
   "cell_type": "markdown",
   "metadata": {}
  },
  {
   "cell_type": "code",
   "execution_count": 38,
   "metadata": {},
   "outputs": [
    {
     "output_type": "execute_result",
     "data": {
      "text/plain": [
       "'Tiny are experts at making busy bohemian shirtdresses that look casual but retain a feminine drape.  it skims over my trouble spots without adding bulk.  this is my fourth dress from this label and it does not disappoint.  for my frame and style i chose tts but those of slender & petite builds may want to size down.  for reference i am 5\\'3\" 140# 36dd.'"
      ]
     },
     "metadata": {},
     "execution_count": 38
    }
   ],
   "source": [
    "# Mistaken review (Negative one, predicted as positive)\n",
    "df.iloc[417]['Review Text']"
   ]
  },
  {
   "source": [
    "Well, actually I do not know. Here it seems that review is positive?"
   ],
   "cell_type": "markdown",
   "metadata": {}
  }
 ],
 "metadata": {
  "kernelspec": {
   "name": "python3",
   "display_name": "Python 3.8.5 64-bit",
   "metadata": {
    "interpreter": {
     "hash": "aee8b7b246df8f9039afb4144a1f6fd8d2ca17a180786b69acc140d282b71a49"
    }
   }
  },
  "language_info": {
   "codemirror_mode": {
    "name": "ipython",
    "version": 2
   },
   "file_extension": ".py",
   "mimetype": "text/x-python",
   "name": "python",
   "nbconvert_exporter": "python",
   "pygments_lexer": "ipython2",
   "version": "3.8.5-final"
  }
 },
 "nbformat": 4,
 "nbformat_minor": 2
}